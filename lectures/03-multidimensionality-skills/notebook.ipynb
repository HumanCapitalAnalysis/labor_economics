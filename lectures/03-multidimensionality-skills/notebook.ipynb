{
 "cells": [
  {
   "cell_type": "markdown",
   "metadata": {},
   "source": [
    "# Multidimensionality of skills"
   ]
  },
  {
   "cell_type": "markdown",
   "metadata": {},
   "source": [
    "<iframe src=\"https://www.slideshare.net/slideshow/embed_code/key/vm2yyQTyH5Ryf0\" width=\"595\" height=\"485\" frameborder=\"0\" marginwidth=\"0\" marginheight=\"0\" scrolling=\"no\" style=\"border:1px solid #CCC; border-width:1px; margin-bottom:5px; max-width: 100%;\" allowfullscreen> </iframe> <div style=\"margin-bottom:5px\"> <strong> <a href=\"https://www.slideshare.net/secret/vm2yyQTyH5Ryf0\" title=\"03 Multidimensionality of skills\" target=\"_blank\"></a> </strong> </div>"
   ]
  },
  {
   "cell_type": "markdown",
   "metadata": {},
   "source": [
    "You can download the slides for this lecture [here](https://raw.githubusercontent.com/HumanCapitalAnalysis/labor-economics/toc-changes/lectures/03-multidimensionality-skills/slides.pdf)."
   ]
  },
  {
   "cell_type": "markdown",
   "metadata": {},
   "source": [
    "### References"
   ]
  },
  {
   "cell_type": "markdown",
   "metadata": {},
   "source": [
    "Eisenhauer, P., Heckman, J. J., & Mosso, S. (2015). [Estimation of dynamic discrete choice models by maximum likelihood and the simulated method of moments.](https://onlinelibrary.wiley.com/doi/full/10.1111/iere.12107) *International Economic Review*, 56(2), 331–357.\n",
    "\n",
    "Heckman, J. J., Stixrud, J., & Urzua, S. (2006). [The effects of cognitive and noncognitive abilities on labor market outcomes and social behavior.](https://www.journals.uchicago.edu/doi/abs/10.1086/504455) *Journal of Labor Economics*, 24(3), 411–482."
   ]
  }
 ],
 "metadata": {
  "kernelspec": {
   "display_name": "Python 3",
   "language": "python",
   "name": "python3"
  },
  "language_info": {
   "codemirror_mode": {
    "name": "ipython",
    "version": 3
   },
   "file_extension": ".py",
   "mimetype": "text/x-python",
   "name": "python",
   "nbconvert_exporter": "python",
   "pygments_lexer": "ipython3",
   "version": "3.9.2"
  }
 },
 "nbformat": 4,
 "nbformat_minor": 4
}
