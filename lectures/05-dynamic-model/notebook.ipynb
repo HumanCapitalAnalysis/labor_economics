{
 "cells": [
  {
   "cell_type": "markdown",
   "metadata": {},
   "source": [
    "# Dynamic model of human capital accumulation\n",
    "\n",
    "We maintain an set of [slides](https://github.com/OpenSourceEconomics/ekw-promotion/blob/master/promotion/ekw-slides.pdf) and an accompanying [handout](https://github.com/OpenSourceEconomics/ekw-promotion/blob/master/promotion/ekw-handout.pdf) on the class of the so-called **Eckstein-Keane-Wolpin** models. "
   ]
  }
 ],
 "metadata": {
  "kernelspec": {
   "display_name": "Python 3",
   "language": "python",
   "name": "python3"
  },
  "language_info": {
   "codemirror_mode": {
    "name": "ipython",
    "version": 3
   },
   "file_extension": ".py",
   "mimetype": "text/x-python",
   "name": "python",
   "nbconvert_exporter": "python",
   "pygments_lexer": "ipython3",
   "version": "3.7.10"
  },
  "toc-autonumbering": false,
  "toc-showcode": false,
  "toc-showmarkdowntxt": true,
  "toc-showtags": false
 },
 "nbformat": 4,
 "nbformat_minor": 4
}
